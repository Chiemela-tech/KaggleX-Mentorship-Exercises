{
 "cells": [
  {
   "cell_type": "markdown",
   "id": "09ef5494",
   "metadata": {
    "papermill": {
     "duration": 0.006133,
     "end_time": "2022-12-27T08:38:43.515485",
     "exception": false,
     "start_time": "2022-12-27T08:38:43.509352",
     "status": "completed"
    },
    "tags": []
   },
   "source": [
    "**This notebook is an exercise in the [Data Visualization](https://www.kaggle.com/learn/data-visualization) course.  You can reference the tutorial at [this link](https://www.kaggle.com/alexisbcook/final-project).**\n",
    "\n",
    "---\n"
   ]
  },
  {
   "cell_type": "markdown",
   "id": "17f0bdee",
   "metadata": {
    "papermill": {
     "duration": 0.004439,
     "end_time": "2022-12-27T08:38:43.525185",
     "exception": false,
     "start_time": "2022-12-27T08:38:43.520746",
     "status": "completed"
    },
    "tags": []
   },
   "source": [
    "Now it's time for you to demonstrate your new skills with a project of your own!\n",
    "\n",
    "In this exercise, you will work with a dataset of your choosing.  Once you've selected a dataset, you'll design and create your own plot to tell interesting stories behind the data!\n",
    "\n",
    "## Setup\n",
    "\n",
    "Run the next cell to import and configure the Python libraries that you need to complete the exercise."
   ]
  },
  {
   "cell_type": "code",
   "execution_count": 1,
   "id": "e5cda0c4",
   "metadata": {
    "execution": {
     "iopub.execute_input": "2022-12-27T08:38:43.537450Z",
     "iopub.status.busy": "2022-12-27T08:38:43.536810Z",
     "iopub.status.idle": "2022-12-27T08:38:44.749952Z",
     "shell.execute_reply": "2022-12-27T08:38:44.748484Z"
    },
    "papermill": {
     "duration": 1.223589,
     "end_time": "2022-12-27T08:38:44.753651",
     "exception": false,
     "start_time": "2022-12-27T08:38:43.530062",
     "status": "completed"
    },
    "tags": []
   },
   "outputs": [
    {
     "name": "stdout",
     "output_type": "stream",
     "text": [
      "Setup Complete\n"
     ]
    }
   ],
   "source": [
    "import pandas as pd\n",
    "pd.plotting.register_matplotlib_converters()\n",
    "import matplotlib.pyplot as plt\n",
    "%matplotlib inline\n",
    "import seaborn as sns\n",
    "print(\"Setup Complete\")"
   ]
  },
  {
   "cell_type": "markdown",
   "id": "f651ec2a",
   "metadata": {
    "papermill": {
     "duration": 0.005364,
     "end_time": "2022-12-27T08:38:44.764444",
     "exception": false,
     "start_time": "2022-12-27T08:38:44.759080",
     "status": "completed"
    },
    "tags": []
   },
   "source": [
    "The questions below will give you feedback on your work. Run the following cell to set up the feedback system."
   ]
  },
  {
   "cell_type": "code",
   "execution_count": 2,
   "id": "ff74da8d",
   "metadata": {
    "execution": {
     "iopub.execute_input": "2022-12-27T08:38:44.777034Z",
     "iopub.status.busy": "2022-12-27T08:38:44.776532Z",
     "iopub.status.idle": "2022-12-27T08:38:44.835665Z",
     "shell.execute_reply": "2022-12-27T08:38:44.834247Z"
    },
    "papermill": {
     "duration": 0.069806,
     "end_time": "2022-12-27T08:38:44.839539",
     "exception": false,
     "start_time": "2022-12-27T08:38:44.769733",
     "status": "completed"
    },
    "tags": []
   },
   "outputs": [
    {
     "name": "stdout",
     "output_type": "stream",
     "text": [
      "Setup Complete\n"
     ]
    }
   ],
   "source": [
    "# Set up code checking\n",
    "from learntools.core import binder\n",
    "binder.bind(globals())\n",
    "from learntools.data_viz_to_coder.ex7 import *\n",
    "print(\"Setup Complete\")"
   ]
  },
  {
   "cell_type": "markdown",
   "id": "0146e254",
   "metadata": {
    "papermill": {
     "duration": 0.004777,
     "end_time": "2022-12-27T08:38:44.849551",
     "exception": false,
     "start_time": "2022-12-27T08:38:44.844774",
     "status": "completed"
    },
    "tags": []
   },
   "source": [
    "## Step 1: Attach a dataset to the notebook\n",
    "\n",
    "Begin by selecting a CSV dataset from [Kaggle Datasets](https://www.kaggle.com/datasets).  If you're unsure how to do this, please revisit the instructions in the previous tutorial.\n",
    "\n",
    "Once you have selected a dataset, click on the **[+ Add data]** option in the top right corner.  This will generate a pop-up window that you can use to search for your chosen dataset.  \n",
    "\n",
    "![ex6_search_dataset](https://i.imgur.com/cIIWPUS.png)\n",
    "\n",
    "Once you have found the dataset, click on the **[Add]** button to attach it to the notebook.  You can check that it was successful by looking at the **Data** dropdown menu to the right of the notebook -- look for an **input** folder containing a subfolder that matches the name of the dataset.\n",
    "\n",
    "<center>\n",
    "<img src=\"https://i.imgur.com/nMYc1Nu.png\" width=30%><br/>\n",
    "</center>\n",
    "\n",
    "You can click on the carat to the left of the name of the dataset to double-check that it contains a CSV file.  For instance, the image below shows that the example dataset contains two CSV files: (1) **dc-wikia-data.csv**, and (2) **marvel-wikia-data.csv**.\n",
    "\n",
    "<center>\n",
    "<img src=\"https://i.imgur.com/B4sJkVA.png\" width=30%><br/>\n",
    "</center>\n",
    "\n",
    "Once you've uploaded a dataset with a CSV file, run the code cell below **without changes** to receive credit for your work!"
   ]
  },
  {
   "cell_type": "code",
   "execution_count": 3,
   "id": "52bbfc53",
   "metadata": {
    "execution": {
     "iopub.execute_input": "2022-12-27T08:38:44.862992Z",
     "iopub.status.busy": "2022-12-27T08:38:44.861605Z",
     "iopub.status.idle": "2022-12-27T08:38:44.908110Z",
     "shell.execute_reply": "2022-12-27T08:38:44.906543Z"
    },
    "papermill": {
     "duration": 0.056235,
     "end_time": "2022-12-27T08:38:44.911061",
     "exception": false,
     "start_time": "2022-12-27T08:38:44.854826",
     "status": "completed"
    },
    "tags": []
   },
   "outputs": [
    {
     "data": {
      "text/html": [
       "<div>\n",
       "<style scoped>\n",
       "    .dataframe tbody tr th:only-of-type {\n",
       "        vertical-align: middle;\n",
       "    }\n",
       "\n",
       "    .dataframe tbody tr th {\n",
       "        vertical-align: top;\n",
       "    }\n",
       "\n",
       "    .dataframe thead th {\n",
       "        text-align: right;\n",
       "    }\n",
       "</style>\n",
       "<table border=\"1\" class=\"dataframe\">\n",
       "  <thead>\n",
       "    <tr style=\"text-align: right;\">\n",
       "      <th></th>\n",
       "      <th>img_link</th>\n",
       "      <th>cotton_percent</th>\n",
       "      <th>is_pure</th>\n",
       "    </tr>\n",
       "  </thead>\n",
       "  <tbody>\n",
       "    <tr>\n",
       "      <th>0</th>\n",
       "      <td>../input/cotton-data/Cotton2/1486/im_1.png</td>\n",
       "      <td>100.0</td>\n",
       "      <td>True</td>\n",
       "    </tr>\n",
       "    <tr>\n",
       "      <th>1</th>\n",
       "      <td>../input/cotton-data/Cotton2/1838/im_4.png</td>\n",
       "      <td>100.0</td>\n",
       "      <td>True</td>\n",
       "    </tr>\n",
       "    <tr>\n",
       "      <th>2</th>\n",
       "      <td>../input/cotton-data/Cotton2/849/im_1.png</td>\n",
       "      <td>100.0</td>\n",
       "      <td>True</td>\n",
       "    </tr>\n",
       "    <tr>\n",
       "      <th>3</th>\n",
       "      <td>../input/cotton-data/Cotton2/1477/im_2.png</td>\n",
       "      <td>100.0</td>\n",
       "      <td>True</td>\n",
       "    </tr>\n",
       "    <tr>\n",
       "      <th>4</th>\n",
       "      <td>../input/blended-image-dataset/Blended/1208/im...</td>\n",
       "      <td>50.0</td>\n",
       "      <td>False</td>\n",
       "    </tr>\n",
       "  </tbody>\n",
       "</table>\n",
       "</div>"
      ],
      "text/plain": [
       "                                            img_link  cotton_percent  is_pure\n",
       "0         ../input/cotton-data/Cotton2/1486/im_1.png           100.0     True\n",
       "1         ../input/cotton-data/Cotton2/1838/im_4.png           100.0     True\n",
       "2          ../input/cotton-data/Cotton2/849/im_1.png           100.0     True\n",
       "3         ../input/cotton-data/Cotton2/1477/im_2.png           100.0     True\n",
       "4  ../input/blended-image-dataset/Blended/1208/im...            50.0    False"
      ]
     },
     "execution_count": 3,
     "metadata": {},
     "output_type": "execute_result"
    }
   ],
   "source": [
    "# import pandas\n",
    "import pandas as pd\n",
    "\n",
    "# Read the csv file into a variable cotton_data\n",
    "cotton_data = pd.read_csv(\"/kaggle/input/cottonpurity-detection/test.csv\") \n",
    "cotton_data.head()"
   ]
  },
  {
   "cell_type": "markdown",
   "id": "a167df4a",
   "metadata": {
    "papermill": {
     "duration": 0.004912,
     "end_time": "2022-12-27T08:38:44.921448",
     "exception": false,
     "start_time": "2022-12-27T08:38:44.916536",
     "status": "completed"
    },
    "tags": []
   },
   "source": [
    "## Step 2: Specify the filepath\n",
    "\n",
    "Now that the dataset is attached to the notebook, you can find its filepath.  To do this, begin by clicking on the CSV file you'd like to use.  This will open the CSV file in a tab below the notebook.  You can find the filepath towards the top of this new tab.  \n",
    "\n",
    "![ex6_filepath](https://i.imgur.com/fgXQV47.png)\n",
    "\n",
    "After you find the filepath corresponding to your dataset, fill it in as the value for `my_filepath` in the code cell below, and run the code cell to check that you've provided a valid filepath.  For instance, in the case of this example dataset, we would set\n",
    "```\n",
    "my_filepath = \"../input/fivethirtyeight-comic-characters-dataset/dc-wikia-data.csv\"\n",
    "```  \n",
    "Note that **you must enclose the filepath in quotation marks**; otherwise, the code will return an error.\n",
    "\n",
    "Once you've entered the filepath, you can close the tab below the notebook by clicking on the **[X]** at the top of the tab."
   ]
  },
  {
   "cell_type": "code",
   "execution_count": 4,
   "id": "46d644c5",
   "metadata": {
    "execution": {
     "iopub.execute_input": "2022-12-27T08:38:44.935140Z",
     "iopub.status.busy": "2022-12-27T08:38:44.934639Z",
     "iopub.status.idle": "2022-12-27T08:38:44.948177Z",
     "shell.execute_reply": "2022-12-27T08:38:44.946932Z"
    },
    "papermill": {
     "duration": 0.023763,
     "end_time": "2022-12-27T08:38:44.950987",
     "exception": false,
     "start_time": "2022-12-27T08:38:44.927224",
     "status": "completed"
    },
    "tags": []
   },
   "outputs": [
    {
     "data": {
      "application/javascript": [
       "parent.postMessage({\"jupyterEvent\": \"custom.exercise_interaction\", \"data\": {\"outcomeType\": 1, \"valueTowardsCompletion\": 0.25, \"interactionType\": 1, \"questionType\": 2, \"questionId\": \"2_Filepath\", \"learnToolsVersion\": \"0.3.4\", \"failureMessage\": \"\", \"exceptionClass\": \"\", \"trace\": \"\"}}, \"*\")"
      ],
      "text/plain": [
       "<IPython.core.display.Javascript object>"
      ]
     },
     "metadata": {},
     "output_type": "display_data"
    },
    {
     "data": {
      "text/markdown": [
       "<span style=\"color:#33cc33\">Correct:</span> \n",
       "\n"
      ],
      "text/plain": [
       "Correct: \n"
      ]
     },
     "metadata": {},
     "output_type": "display_data"
    }
   ],
   "source": [
    "# Fill in the line below: Specify the path of the CSV file to read\n",
    "my_filepath = \"../input/cottonpurity-detection/test.csv\" \n",
    "\n",
    "# Check for a valid filepath to a CSV file in a dataset\n",
    "step_2.check()"
   ]
  },
  {
   "cell_type": "markdown",
   "id": "f1676c1b",
   "metadata": {
    "papermill": {
     "duration": 0.005186,
     "end_time": "2022-12-27T08:38:44.961752",
     "exception": false,
     "start_time": "2022-12-27T08:38:44.956566",
     "status": "completed"
    },
    "tags": []
   },
   "source": [
    "## Step 3: Load the data\n",
    "\n",
    "Use the next code cell to load your data file into `my_data`.  Use the filepath that you specified in the previous step."
   ]
  },
  {
   "cell_type": "code",
   "execution_count": 5,
   "id": "31dff4dc",
   "metadata": {
    "execution": {
     "iopub.execute_input": "2022-12-27T08:38:44.974896Z",
     "iopub.status.busy": "2022-12-27T08:38:44.974348Z",
     "iopub.status.idle": "2022-12-27T08:38:44.990756Z",
     "shell.execute_reply": "2022-12-27T08:38:44.989665Z"
    },
    "papermill": {
     "duration": 0.026015,
     "end_time": "2022-12-27T08:38:44.993335",
     "exception": false,
     "start_time": "2022-12-27T08:38:44.967320",
     "status": "completed"
    },
    "tags": []
   },
   "outputs": [
    {
     "data": {
      "application/javascript": [
       "parent.postMessage({\"jupyterEvent\": \"custom.exercise_interaction\", \"data\": {\"outcomeType\": 1, \"valueTowardsCompletion\": 0.25, \"interactionType\": 1, \"questionType\": 2, \"questionId\": \"3_LoadData\", \"learnToolsVersion\": \"0.3.4\", \"failureMessage\": \"\", \"exceptionClass\": \"\", \"trace\": \"\"}}, \"*\")"
      ],
      "text/plain": [
       "<IPython.core.display.Javascript object>"
      ]
     },
     "metadata": {},
     "output_type": "display_data"
    },
    {
     "data": {
      "text/markdown": [
       "<span style=\"color:#33cc33\">Correct:</span> \n",
       "\n"
      ],
      "text/plain": [
       "Correct: \n"
      ]
     },
     "metadata": {},
     "output_type": "display_data"
    }
   ],
   "source": [
    "# Fill in the line below: Read the file into a variable my_data\n",
    "my_data = pd.read_csv(\"/kaggle/input/cottonpurity-detection/test.csv\") \n",
    "\n",
    "# Check that a dataset has been uploaded into my_data\n",
    "step_3.check()"
   ]
  },
  {
   "cell_type": "markdown",
   "id": "7014f9df",
   "metadata": {
    "papermill": {
     "duration": 0.005708,
     "end_time": "2022-12-27T08:38:45.005290",
     "exception": false,
     "start_time": "2022-12-27T08:38:44.999582",
     "status": "completed"
    },
    "tags": []
   },
   "source": [
    "**_After the code cell above is marked correct_**, run the code cell below without changes to view the first five rows of the data."
   ]
  },
  {
   "cell_type": "code",
   "execution_count": 6,
   "id": "c5033a18",
   "metadata": {
    "execution": {
     "iopub.execute_input": "2022-12-27T08:38:45.021045Z",
     "iopub.status.busy": "2022-12-27T08:38:45.020036Z",
     "iopub.status.idle": "2022-12-27T08:38:45.033959Z",
     "shell.execute_reply": "2022-12-27T08:38:45.032446Z"
    },
    "papermill": {
     "duration": 0.025408,
     "end_time": "2022-12-27T08:38:45.037140",
     "exception": false,
     "start_time": "2022-12-27T08:38:45.011732",
     "status": "completed"
    },
    "tags": []
   },
   "outputs": [
    {
     "data": {
      "text/html": [
       "<div>\n",
       "<style scoped>\n",
       "    .dataframe tbody tr th:only-of-type {\n",
       "        vertical-align: middle;\n",
       "    }\n",
       "\n",
       "    .dataframe tbody tr th {\n",
       "        vertical-align: top;\n",
       "    }\n",
       "\n",
       "    .dataframe thead th {\n",
       "        text-align: right;\n",
       "    }\n",
       "</style>\n",
       "<table border=\"1\" class=\"dataframe\">\n",
       "  <thead>\n",
       "    <tr style=\"text-align: right;\">\n",
       "      <th></th>\n",
       "      <th>img_link</th>\n",
       "      <th>cotton_percent</th>\n",
       "      <th>is_pure</th>\n",
       "    </tr>\n",
       "  </thead>\n",
       "  <tbody>\n",
       "    <tr>\n",
       "      <th>0</th>\n",
       "      <td>../input/cotton-data/Cotton2/1486/im_1.png</td>\n",
       "      <td>100.0</td>\n",
       "      <td>True</td>\n",
       "    </tr>\n",
       "    <tr>\n",
       "      <th>1</th>\n",
       "      <td>../input/cotton-data/Cotton2/1838/im_4.png</td>\n",
       "      <td>100.0</td>\n",
       "      <td>True</td>\n",
       "    </tr>\n",
       "    <tr>\n",
       "      <th>2</th>\n",
       "      <td>../input/cotton-data/Cotton2/849/im_1.png</td>\n",
       "      <td>100.0</td>\n",
       "      <td>True</td>\n",
       "    </tr>\n",
       "    <tr>\n",
       "      <th>3</th>\n",
       "      <td>../input/cotton-data/Cotton2/1477/im_2.png</td>\n",
       "      <td>100.0</td>\n",
       "      <td>True</td>\n",
       "    </tr>\n",
       "    <tr>\n",
       "      <th>4</th>\n",
       "      <td>../input/blended-image-dataset/Blended/1208/im...</td>\n",
       "      <td>50.0</td>\n",
       "      <td>False</td>\n",
       "    </tr>\n",
       "  </tbody>\n",
       "</table>\n",
       "</div>"
      ],
      "text/plain": [
       "                                            img_link  cotton_percent  is_pure\n",
       "0         ../input/cotton-data/Cotton2/1486/im_1.png           100.0     True\n",
       "1         ../input/cotton-data/Cotton2/1838/im_4.png           100.0     True\n",
       "2          ../input/cotton-data/Cotton2/849/im_1.png           100.0     True\n",
       "3         ../input/cotton-data/Cotton2/1477/im_2.png           100.0     True\n",
       "4  ../input/blended-image-dataset/Blended/1208/im...            50.0    False"
      ]
     },
     "execution_count": 6,
     "metadata": {},
     "output_type": "execute_result"
    }
   ],
   "source": [
    "# Print the first five rows of the data\n",
    "my_data.head()"
   ]
  },
  {
   "cell_type": "markdown",
   "id": "5f0754e7",
   "metadata": {
    "papermill": {
     "duration": 0.00547,
     "end_time": "2022-12-27T08:38:45.048745",
     "exception": false,
     "start_time": "2022-12-27T08:38:45.043275",
     "status": "completed"
    },
    "tags": []
   },
   "source": [
    "## Step 4: Visualize the data\n",
    "\n",
    "Use the next code cell to create a figure that tells a story behind your dataset.  You can use any chart type (_line chart, bar chart, heatmap, etc_) of your choosing!"
   ]
  },
  {
   "cell_type": "code",
   "execution_count": 7,
   "id": "cec5ee40",
   "metadata": {
    "execution": {
     "iopub.execute_input": "2022-12-27T08:38:45.064088Z",
     "iopub.status.busy": "2022-12-27T08:38:45.063544Z",
     "iopub.status.idle": "2022-12-27T08:38:45.363572Z",
     "shell.execute_reply": "2022-12-27T08:38:45.362073Z"
    },
    "papermill": {
     "duration": 0.310878,
     "end_time": "2022-12-27T08:38:45.366934",
     "exception": false,
     "start_time": "2022-12-27T08:38:45.056056",
     "status": "completed"
    },
    "tags": []
   },
   "outputs": [
    {
     "data": {
      "application/javascript": [
       "parent.postMessage({\"jupyterEvent\": \"custom.exercise_interaction\", \"data\": {\"outcomeType\": 1, \"valueTowardsCompletion\": 0.25, \"interactionType\": 1, \"questionType\": 2, \"questionId\": \"4_CreatePlot\", \"learnToolsVersion\": \"0.3.4\", \"failureMessage\": \"\", \"exceptionClass\": \"\", \"trace\": \"\"}}, \"*\")"
      ],
      "text/plain": [
       "<IPython.core.display.Javascript object>"
      ]
     },
     "metadata": {},
     "output_type": "display_data"
    },
    {
     "data": {
      "text/markdown": [
       "<span style=\"color:#33cc33\">Correct:</span> \n",
       "\n"
      ],
      "text/plain": [
       "Correct: \n"
      ]
     },
     "metadata": {},
     "output_type": "display_data"
    },
    {
     "data": {
      "image/png": "[encoded data removed]",
      "text/plain": [
       "<Figure size 432x288 with 1 Axes>"
      ]
     },
     "metadata": {
      "needs_background": "light"
     },
     "output_type": "display_data"
    }
   ],
   "source": [
    "# Create a plot\n",
    "sns.barplot(x=my_data['is_pure'], y=my_data['cotton_percent'])\n",
    "# Your code here\n",
    "\n",
    "# Check that a figure appears below\n",
    "step_4.check()"
   ]
  },
  {
   "cell_type": "markdown",
   "id": "ca117497",
   "metadata": {
    "papermill": {
     "duration": 0.006119,
     "end_time": "2022-12-27T08:38:45.379813",
     "exception": false,
     "start_time": "2022-12-27T08:38:45.373694",
     "status": "completed"
    },
    "tags": []
   },
   "source": [
    "It is true that the higher the cotton percent, the purer it is."
   ]
  },
  {
   "cell_type": "markdown",
   "id": "eb557b61",
   "metadata": {
    "papermill": {
     "duration": 0.005948,
     "end_time": "2022-12-27T08:38:45.392099",
     "exception": false,
     "start_time": "2022-12-27T08:38:45.386151",
     "status": "completed"
    },
    "tags": []
   },
   "source": [
    "## Keep going\n",
    "\n",
    "Learn how to use your skills after completing the micro-course to create data visualizations in a **[final tutorial](https://www.kaggle.com/alexisbcook/creating-your-own-notebooks)**."
   ]
  },
  {
   "cell_type": "markdown",
   "id": "7ca1ad70",
   "metadata": {
    "papermill": {
     "duration": 0.006016,
     "end_time": "2022-12-27T08:38:45.404758",
     "exception": false,
     "start_time": "2022-12-27T08:38:45.398742",
     "status": "completed"
    },
    "tags": []
   },
   "source": [
    "---\n",
    "\n",
    "\n",
    "\n",
    "\n",
    "*Have questions or comments? Visit the [course discussion forum](https://www.kaggle.com/learn/data-visualization/discussion) to chat with other learners.*"
   ]
  }
 ],
 "metadata": {
  "kernelspec": {
   "display_name": "Python 3",
   "language": "python",
   "name": "python3"
  },
  "language_info": {
   "codemirror_mode": {
    "name": "ipython",
    "version": 3
   },
   "file_extension": ".py",
   "mimetype": "text/x-python",
   "name": "python",
   "nbconvert_exporter": "python",
   "pygments_lexer": "ipython3",
   "version": "3.7.12"
  },
  "papermill": {
   "default_parameters": {},
   "duration": 15.333159,
   "end_time": "2022-12-27T08:38:46.539397",
   "environment_variables": {},
   "exception": null,
   "input_path": "__notebook__.ipynb",
   "output_path": "__notebook__.ipynb",
   "parameters": {},
   "start_time": "2022-12-27T08:38:31.206238",
   "version": "2.3.4"
  }
 },
 "nbformat": 4,
 "nbformat_minor": 5
}
