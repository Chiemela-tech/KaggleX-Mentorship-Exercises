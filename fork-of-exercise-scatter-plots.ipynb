{
 "cells": [
  {
   "cell_type": "markdown",
   "id": "47678f54",
   "metadata": {
    "papermill": {
     "duration": 0.007686,
     "end_time": "2022-12-27T06:48:49.209428",
     "exception": false,
     "start_time": "2022-12-27T06:48:49.201742",
     "status": "completed"
    },
    "tags": []
   },
   "source": [
    "**This notebook is an exercise in the [Data Visualization](https://www.kaggle.com/learn/data-visualization) course.  You can reference the tutorial at [this link](https://www.kaggle.com/alexisbcook/scatter-plots).**\n",
    "\n",
    "---\n"
   ]
  },
  {
   "cell_type": "markdown",
   "id": "f4892930",
   "metadata": {
    "papermill": {
     "duration": 0.00632,
     "end_time": "2022-12-27T06:48:49.222438",
     "exception": false,
     "start_time": "2022-12-27T06:48:49.216118",
     "status": "completed"
    },
    "tags": []
   },
   "source": [
    "In this exercise, you will use your new knowledge to propose a solution to a real-world scenario.  To succeed, you will need to import data into Python, answer questions using the data, and generate **scatter plots** to understand patterns in the data.\n",
    "\n",
    "## Scenario\n",
    "\n",
    "You work for a major candy producer, and your goal is to write a report that your company can use to guide the design of its next product.  Soon after starting your research, you stumble across this [very interesting dataset](https://fivethirtyeight.com/features/the-ultimate-halloween-candy-power-ranking/) containing results from a fun survey to crowdsource favorite candies.\n",
    "\n",
    "## Setup\n",
    "\n",
    "Run the next cell to import and configure the Python libraries that you need to complete the exercise."
   ]
  },
  {
   "cell_type": "code",
   "execution_count": 1,
   "id": "acf91dc5",
   "metadata": {
    "execution": {
     "iopub.execute_input": "2022-12-27T06:48:49.237238Z",
     "iopub.status.busy": "2022-12-27T06:48:49.236384Z",
     "iopub.status.idle": "2022-12-27T06:48:50.310592Z",
     "shell.execute_reply": "2022-12-27T06:48:50.307851Z"
    },
    "papermill": {
     "duration": 1.084959,
     "end_time": "2022-12-27T06:48:50.313701",
     "exception": false,
     "start_time": "2022-12-27T06:48:49.228742",
     "status": "completed"
    },
    "tags": []
   },
   "outputs": [
    {
     "name": "stdout",
     "output_type": "stream",
     "text": [
      "Setup Complete\n"
     ]
    }
   ],
   "source": [
    "import pandas as pd\n",
    "pd.plotting.register_matplotlib_converters()\n",
    "import matplotlib.pyplot as plt\n",
    "%matplotlib inline\n",
    "import seaborn as sns\n",
    "print(\"Setup Complete\")"
   ]
  },
  {
   "cell_type": "markdown",
   "id": "b036d707",
   "metadata": {
    "papermill": {
     "duration": 0.007043,
     "end_time": "2022-12-27T06:48:50.327611",
     "exception": false,
     "start_time": "2022-12-27T06:48:50.320568",
     "status": "completed"
    },
    "tags": []
   },
   "source": [
    "The questions below will give you feedback on your work. Run the following cell to set up our feedback system."
   ]
  },
  {
   "cell_type": "code",
   "execution_count": 2,
   "id": "084eae5c",
   "metadata": {
    "execution": {
     "iopub.execute_input": "2022-12-27T06:48:50.342216Z",
     "iopub.status.busy": "2022-12-27T06:48:50.341778Z",
     "iopub.status.idle": "2022-12-27T06:48:50.407914Z",
     "shell.execute_reply": "2022-12-27T06:48:50.406678Z"
    },
    "papermill": {
     "duration": 0.076387,
     "end_time": "2022-12-27T06:48:50.410599",
     "exception": false,
     "start_time": "2022-12-27T06:48:50.334212",
     "status": "completed"
    },
    "tags": []
   },
   "outputs": [
    {
     "name": "stdout",
     "output_type": "stream",
     "text": [
      "Setup Complete\n"
     ]
    }
   ],
   "source": [
    "# Set up code checking\n",
    "import os\n",
    "if not os.path.exists(\"../input/candy.csv\"):\n",
    "    os.symlink(\"../input/data-for-datavis/candy.csv\", \"../input/candy.csv\") \n",
    "from learntools.core import binder\n",
    "binder.bind(globals())\n",
    "from learntools.data_viz_to_coder.ex4 import *\n",
    "print(\"Setup Complete\")"
   ]
  },
  {
   "cell_type": "markdown",
   "id": "21d696db",
   "metadata": {
    "papermill": {
     "duration": 0.006121,
     "end_time": "2022-12-27T06:48:50.423184",
     "exception": false,
     "start_time": "2022-12-27T06:48:50.417063",
     "status": "completed"
    },
    "tags": []
   },
   "source": [
    "## Step 1: Load the Data\n",
    "\n",
    "Read the candy data file into `candy_data`.  Use the `\"id\"` column to label the rows."
   ]
  },
  {
   "cell_type": "code",
   "execution_count": 3,
   "id": "591870ef",
   "metadata": {
    "execution": {
     "iopub.execute_input": "2022-12-27T06:48:50.440253Z",
     "iopub.status.busy": "2022-12-27T06:48:50.439684Z",
     "iopub.status.idle": "2022-12-27T06:48:50.463168Z",
     "shell.execute_reply": "2022-12-27T06:48:50.461699Z"
    },
    "papermill": {
     "duration": 0.0351,
     "end_time": "2022-12-27T06:48:50.466298",
     "exception": false,
     "start_time": "2022-12-27T06:48:50.431198",
     "status": "completed"
    },
    "tags": []
   },
   "outputs": [
    {
     "data": {
      "application/javascript": [
       "parent.postMessage({\"jupyterEvent\": \"custom.exercise_interaction\", \"data\": {\"outcomeType\": 1, \"valueTowardsCompletion\": 0.3333333333333333, \"interactionType\": 1, \"questionType\": 1, \"questionId\": \"1_LoadData\", \"learnToolsVersion\": \"0.3.4\", \"failureMessage\": \"\", \"exceptionClass\": \"\", \"trace\": \"\"}}, \"*\")"
      ],
      "text/plain": [
       "<IPython.core.display.Javascript object>"
      ]
     },
     "metadata": {},
     "output_type": "display_data"
    },
    {
     "data": {
      "text/markdown": [
       "<span style=\"color:#33cc33\">Correct</span>"
      ],
      "text/plain": [
       "Correct"
      ]
     },
     "metadata": {},
     "output_type": "display_data"
    }
   ],
   "source": [
    "# Path of the file to read\n",
    "candy_filepath = \"../input/candy.csv\"\n",
    "\n",
    "# Fill in the line below to read the file into a variable candy_data\n",
    "candy_data = pd.read_csv(candy_filepath, index_col=\"id\")\n",
    "\n",
    "# Run the line below with no changes to check that you've loaded the data correctly\n",
    "step_1.check()"
   ]
  },
  {
   "cell_type": "markdown",
   "id": "e10fe8af",
   "metadata": {
    "papermill": {
     "duration": 0.006376,
     "end_time": "2022-12-27T06:48:50.481780",
     "exception": false,
     "start_time": "2022-12-27T06:48:50.475404",
     "status": "completed"
    },
    "tags": []
   },
   "source": [
    "## Step 2: Review the data\n",
    "\n",
    "Use a Python command to print the first five rows of the data."
   ]
  },
  {
   "cell_type": "code",
   "execution_count": 4,
   "id": "8292d047",
   "metadata": {
    "execution": {
     "iopub.execute_input": "2022-12-27T06:48:50.502087Z",
     "iopub.status.busy": "2022-12-27T06:48:50.501622Z",
     "iopub.status.idle": "2022-12-27T06:48:50.528231Z",
     "shell.execute_reply": "2022-12-27T06:48:50.526702Z"
    },
    "papermill": {
     "duration": 0.040706,
     "end_time": "2022-12-27T06:48:50.531225",
     "exception": false,
     "start_time": "2022-12-27T06:48:50.490519",
     "status": "completed"
    },
    "tags": []
   },
   "outputs": [
    {
     "data": {
      "text/html": [
       "<div>\n",
       "<style scoped>\n",
       "    .dataframe tbody tr th:only-of-type {\n",
       "        vertical-align: middle;\n",
       "    }\n",
       "\n",
       "    .dataframe tbody tr th {\n",
       "        vertical-align: top;\n",
       "    }\n",
       "\n",
       "    .dataframe thead th {\n",
       "        text-align: right;\n",
       "    }\n",
       "</style>\n",
       "<table border=\"1\" class=\"dataframe\">\n",
       "  <thead>\n",
       "    <tr style=\"text-align: right;\">\n",
       "      <th></th>\n",
       "      <th>competitorname</th>\n",
       "      <th>chocolate</th>\n",
       "      <th>fruity</th>\n",
       "      <th>caramel</th>\n",
       "      <th>peanutyalmondy</th>\n",
       "      <th>nougat</th>\n",
       "      <th>crispedricewafer</th>\n",
       "      <th>hard</th>\n",
       "      <th>bar</th>\n",
       "      <th>pluribus</th>\n",
       "      <th>sugarpercent</th>\n",
       "      <th>pricepercent</th>\n",
       "      <th>winpercent</th>\n",
       "    </tr>\n",
       "    <tr>\n",
       "      <th>id</th>\n",
       "      <th></th>\n",
       "      <th></th>\n",
       "      <th></th>\n",
       "      <th></th>\n",
       "      <th></th>\n",
       "      <th></th>\n",
       "      <th></th>\n",
       "      <th></th>\n",
       "      <th></th>\n",
       "      <th></th>\n",
       "      <th></th>\n",
       "      <th></th>\n",
       "      <th></th>\n",
       "    </tr>\n",
       "  </thead>\n",
       "  <tbody>\n",
       "    <tr>\n",
       "      <th>0</th>\n",
       "      <td>100 Grand</td>\n",
       "      <td>Yes</td>\n",
       "      <td>No</td>\n",
       "      <td>Yes</td>\n",
       "      <td>No</td>\n",
       "      <td>No</td>\n",
       "      <td>Yes</td>\n",
       "      <td>No</td>\n",
       "      <td>Yes</td>\n",
       "      <td>No</td>\n",
       "      <td>0.732</td>\n",
       "      <td>0.860</td>\n",
       "      <td>66.971725</td>\n",
       "    </tr>\n",
       "    <tr>\n",
       "      <th>1</th>\n",
       "      <td>3 Musketeers</td>\n",
       "      <td>Yes</td>\n",
       "      <td>No</td>\n",
       "      <td>No</td>\n",
       "      <td>No</td>\n",
       "      <td>Yes</td>\n",
       "      <td>No</td>\n",
       "      <td>No</td>\n",
       "      <td>Yes</td>\n",
       "      <td>No</td>\n",
       "      <td>0.604</td>\n",
       "      <td>0.511</td>\n",
       "      <td>67.602936</td>\n",
       "    </tr>\n",
       "    <tr>\n",
       "      <th>2</th>\n",
       "      <td>Air Heads</td>\n",
       "      <td>No</td>\n",
       "      <td>Yes</td>\n",
       "      <td>No</td>\n",
       "      <td>No</td>\n",
       "      <td>No</td>\n",
       "      <td>No</td>\n",
       "      <td>No</td>\n",
       "      <td>No</td>\n",
       "      <td>No</td>\n",
       "      <td>0.906</td>\n",
       "      <td>0.511</td>\n",
       "      <td>52.341465</td>\n",
       "    </tr>\n",
       "    <tr>\n",
       "      <th>3</th>\n",
       "      <td>Almond Joy</td>\n",
       "      <td>Yes</td>\n",
       "      <td>No</td>\n",
       "      <td>No</td>\n",
       "      <td>Yes</td>\n",
       "      <td>No</td>\n",
       "      <td>No</td>\n",
       "      <td>No</td>\n",
       "      <td>Yes</td>\n",
       "      <td>No</td>\n",
       "      <td>0.465</td>\n",
       "      <td>0.767</td>\n",
       "      <td>50.347546</td>\n",
       "    </tr>\n",
       "    <tr>\n",
       "      <th>4</th>\n",
       "      <td>Baby Ruth</td>\n",
       "      <td>Yes</td>\n",
       "      <td>No</td>\n",
       "      <td>Yes</td>\n",
       "      <td>Yes</td>\n",
       "      <td>Yes</td>\n",
       "      <td>No</td>\n",
       "      <td>No</td>\n",
       "      <td>Yes</td>\n",
       "      <td>No</td>\n",
       "      <td>0.604</td>\n",
       "      <td>0.767</td>\n",
       "      <td>56.914547</td>\n",
       "    </tr>\n",
       "  </tbody>\n",
       "</table>\n",
       "</div>"
      ],
      "text/plain": [
       "   competitorname chocolate fruity caramel peanutyalmondy nougat  \\\n",
       "id                                                                 \n",
       "0       100 Grand       Yes     No     Yes             No     No   \n",
       "1    3 Musketeers       Yes     No      No             No    Yes   \n",
       "2       Air Heads        No    Yes      No             No     No   \n",
       "3      Almond Joy       Yes     No      No            Yes     No   \n",
       "4       Baby Ruth       Yes     No     Yes            Yes    Yes   \n",
       "\n",
       "   crispedricewafer hard  bar pluribus  sugarpercent  pricepercent  winpercent  \n",
       "id                                                                              \n",
       "0               Yes   No  Yes       No         0.732         0.860   66.971725  \n",
       "1                No   No  Yes       No         0.604         0.511   67.602936  \n",
       "2                No   No   No       No         0.906         0.511   52.341465  \n",
       "3                No   No  Yes       No         0.465         0.767   50.347546  \n",
       "4                No   No  Yes       No         0.604         0.767   56.914547  "
      ]
     },
     "execution_count": 4,
     "metadata": {},
     "output_type": "execute_result"
    }
   ],
   "source": [
    "# Print the first five rows of the data\n",
    "candy_data.head() # Your code here"
   ]
  },
  {
   "cell_type": "markdown",
   "id": "3c5e7661",
   "metadata": {
    "papermill": {
     "duration": 0.006491,
     "end_time": "2022-12-27T06:48:50.544836",
     "exception": false,
     "start_time": "2022-12-27T06:48:50.538345",
     "status": "completed"
    },
    "tags": []
   },
   "source": [
    "The dataset contains 83 rows, where each corresponds to a different candy bar.  There are 13 columns:\n",
    "- `'competitorname'` contains the name of the candy bar. \n",
    "- the next **9** columns (from `'chocolate'` to `'pluribus'`) describe the candy.  For instance, rows with chocolate candies have `\"Yes\"` in the `'chocolate'` column (and candies without chocolate have `\"No\"` in the same column).\n",
    "- `'sugarpercent'` provides some indication of the amount of sugar, where higher values signify higher sugar content.\n",
    "- `'pricepercent'` shows the price per unit, relative to the other candies in the dataset.\n",
    "- `'winpercent'` is calculated from the survey results; higher values indicate that the candy was more popular with survey respondents.\n",
    "\n",
    "Use the first five rows of the data to answer the questions below."
   ]
  },
  {
   "cell_type": "code",
   "execution_count": 5,
   "id": "f23affcc",
   "metadata": {
    "execution": {
     "iopub.execute_input": "2022-12-27T06:48:50.560452Z",
     "iopub.status.busy": "2022-12-27T06:48:50.559952Z",
     "iopub.status.idle": "2022-12-27T06:48:50.569236Z",
     "shell.execute_reply": "2022-12-27T06:48:50.568377Z"
    },
    "papermill": {
     "duration": 0.019625,
     "end_time": "2022-12-27T06:48:50.571254",
     "exception": false,
     "start_time": "2022-12-27T06:48:50.551629",
     "status": "completed"
    },
    "tags": []
   },
   "outputs": [
    {
     "data": {
      "application/javascript": [
       "parent.postMessage({\"jupyterEvent\": \"custom.exercise_interaction\", \"data\": {\"outcomeType\": 1, \"valueTowardsCompletion\": 0.3333333333333333, \"interactionType\": 1, \"questionType\": 1, \"questionId\": \"2_ReviewData\", \"learnToolsVersion\": \"0.3.4\", \"failureMessage\": \"\", \"exceptionClass\": \"\", \"trace\": \"\"}}, \"*\")"
      ],
      "text/plain": [
       "<IPython.core.display.Javascript object>"
      ]
     },
     "metadata": {},
     "output_type": "display_data"
    },
    {
     "data": {
      "text/markdown": [
       "<span style=\"color:#33cc33\">Correct</span>"
      ],
      "text/plain": [
       "Correct"
      ]
     },
     "metadata": {},
     "output_type": "display_data"
    }
   ],
   "source": [
    "# Fill in the line below: Which candy was more popular with survey respondents:\n",
    "# '3 Musketeers' or 'Almond Joy'?  (Please enclose your answer in single quotes.)\n",
    "more_popular = '3 Musketeers'\n",
    "\n",
    "# Fill in the line below: Which candy has higher sugar content: 'Air Heads'\n",
    "# or 'Baby Ruth'? (Please enclose your answer in single quotes.)\n",
    "more_sugar = 'Air Heads'\n",
    "\n",
    "# Check your answers\n",
    "step_2.check()"
   ]
  },
  {
   "cell_type": "markdown",
   "id": "70d4e119",
   "metadata": {
    "papermill": {
     "duration": 0.007,
     "end_time": "2022-12-27T06:48:50.585620",
     "exception": false,
     "start_time": "2022-12-27T06:48:50.578620",
     "status": "completed"
    },
    "tags": []
   },
   "source": [
    "## Step 3: The role of sugar\n",
    "\n",
    "Do people tend to prefer candies with higher sugar content?  \n",
    "\n",
    "#### Part A\n",
    "\n",
    "Create a scatter plot that shows the relationship between `'sugarpercent'` (on the horizontal x-axis) and `'winpercent'` (on the vertical y-axis).  _Don't add a regression line just yet -- you'll do that in the next step!_"
   ]
  },
  {
   "cell_type": "code",
   "execution_count": 6,
   "id": "fdae7ab8",
   "metadata": {
    "execution": {
     "iopub.execute_input": "2022-12-27T06:48:50.601788Z",
     "iopub.status.busy": "2022-12-27T06:48:50.601374Z",
     "iopub.status.idle": "2022-12-27T06:48:50.911615Z",
     "shell.execute_reply": "2022-12-27T06:48:50.910369Z"
    },
    "papermill": {
     "duration": 0.321697,
     "end_time": "2022-12-27T06:48:50.914564",
     "exception": false,
     "start_time": "2022-12-27T06:48:50.592867",
     "status": "completed"
    },
    "tags": []
   },
   "outputs": [
    {
     "data": {
      "application/javascript": [
       "parent.postMessage({\"jupyterEvent\": \"custom.exercise_interaction\", \"data\": {\"outcomeType\": 1, \"valueTowardsCompletion\": 0.3333333333333333, \"interactionType\": 1, \"questionType\": 2, \"questionId\": \"3.1_PlotBlueScatter\", \"learnToolsVersion\": \"0.3.4\", \"failureMessage\": \"\", \"exceptionClass\": \"\", \"trace\": \"\"}}, \"*\")"
      ],
      "text/plain": [
       "<IPython.core.display.Javascript object>"
      ]
     },
     "metadata": {},
     "output_type": "display_data"
    },
    {
     "data": {
      "text/markdown": [
       "<span style=\"color:#33cc33\">Correct</span>"
      ],
      "text/plain": [
       "Correct"
      ]
     },
     "metadata": {},
     "output_type": "display_data"
    },
    {
     "data": {
      "image/png": "[encoded data removed]",
      "text/plain": [
       "<Figure size 432x288 with 1 Axes>"
      ]
     },
     "metadata": {
      "needs_background": "light"
     },
     "output_type": "display_data"
    }
   ],
   "source": [
    "# Scatter plot showing the relationship between 'sugarpercent' and 'winpercent'\n",
    "sns.scatterplot(x='sugarpercent', y='winpercent', data=candy_data)\n",
    "# Your code here\n",
    "\n",
    "# Check your answer\n",
    "step_3.a.check()"
   ]
  },
  {
   "cell_type": "markdown",
   "id": "ee184d49",
   "metadata": {
    "papermill": {
     "duration": 0.007288,
     "end_time": "2022-12-27T06:48:50.931427",
     "exception": false,
     "start_time": "2022-12-27T06:48:50.924139",
     "status": "completed"
    },
    "tags": []
   },
   "source": [
    "#### Part B\n",
    "\n",
    "Does the scatter plot show a **strong** correlation between the two variables?  If so, are candies with more sugar relatively more or less popular with the survey respondents?"
   ]
  },
  {
   "cell_type": "markdown",
   "id": "75863673",
   "metadata": {
    "papermill": {
     "duration": 0.007173,
     "end_time": "2022-12-27T06:48:50.946149",
     "exception": false,
     "start_time": "2022-12-27T06:48:50.938976",
     "status": "completed"
    },
    "tags": []
   },
   "source": [
    "The scatter plot does not show a strong correlation between the two variables. Since there is no clear relationship between the two variables, this tells us that sugar content does not play a strong role in candy popularity."
   ]
  },
  {
   "cell_type": "markdown",
   "id": "9bffac45",
   "metadata": {
    "papermill": {
     "duration": 0.007267,
     "end_time": "2022-12-27T06:48:50.960922",
     "exception": false,
     "start_time": "2022-12-27T06:48:50.953655",
     "status": "completed"
    },
    "tags": []
   },
   "source": [
    "## Step 4: Take a closer look\n",
    "\n",
    "#### Part A\n",
    "\n",
    "Create the same scatter plot you created in **Step 3**, but now with a regression line!"
   ]
  },
  {
   "cell_type": "code",
   "execution_count": 7,
   "id": "97e7b870",
   "metadata": {
    "execution": {
     "iopub.execute_input": "2022-12-27T06:48:50.978782Z",
     "iopub.status.busy": "2022-12-27T06:48:50.978002Z",
     "iopub.status.idle": "2022-12-27T06:48:51.329365Z",
     "shell.execute_reply": "2022-12-27T06:48:51.328086Z"
    },
    "papermill": {
     "duration": 0.363547,
     "end_time": "2022-12-27T06:48:51.332251",
     "exception": false,
     "start_time": "2022-12-27T06:48:50.968704",
     "status": "completed"
    },
    "tags": []
   },
   "outputs": [
    {
     "data": {
      "application/javascript": [
       "parent.postMessage({\"jupyterEvent\": \"custom.exercise_interaction\", \"data\": {\"outcomeType\": 1, \"valueTowardsCompletion\": 0.3333333333333333, \"interactionType\": 1, \"questionType\": 2, \"questionId\": \"4.1_PlotBlueReg\", \"learnToolsVersion\": \"0.3.4\", \"failureMessage\": \"\", \"exceptionClass\": \"\", \"trace\": \"\"}}, \"*\")"
      ],
      "text/plain": [
       "<IPython.core.display.Javascript object>"
      ]
     },
     "metadata": {},
     "output_type": "display_data"
    },
    {
     "data": {
      "text/markdown": [
       "<span style=\"color:#33cc33\">Correct</span>"
      ],
      "text/plain": [
       "Correct"
      ]
     },
     "metadata": {},
     "output_type": "display_data"
    },
    {
     "data": {
      "image/png": "[encoded data removed]",
      "text/plain": [
       "<Figure size 432x288 with 1 Axes>"
      ]
     },
     "metadata": {
      "needs_background": "light"
     },
     "output_type": "display_data"
    }
   ],
   "source": [
    "# Scatter plot w/ regression line showing the relationship between 'sugarpercent' and 'winpercent'\n",
    "sns.regplot(x='sugarpercent', y='winpercent', data=candy_data)\n",
    "# Your code here\n",
    "\n",
    "# Check your answer\n",
    "step_4.a.check()"
   ]
  },
  {
   "cell_type": "markdown",
   "id": "0afa3348",
   "metadata": {
    "papermill": {
     "duration": 0.00843,
     "end_time": "2022-12-27T06:48:51.349748",
     "exception": false,
     "start_time": "2022-12-27T06:48:51.341318",
     "status": "completed"
    },
    "tags": []
   },
   "source": [
    "#### Part B\n",
    "\n",
    "According to the plot above, is there a **slight** correlation between `'winpercent'` and `'sugarpercent'`?  What does this tell you about the candy that people tend to prefer?"
   ]
  },
  {
   "cell_type": "markdown",
   "id": "0276da80",
   "metadata": {
    "papermill": {
     "duration": 0.008383,
     "end_time": "2022-12-27T06:48:51.366969",
     "exception": false,
     "start_time": "2022-12-27T06:48:51.358586",
     "status": "completed"
    },
    "tags": []
   },
   "source": [
    "Since the regression line has a slightly positive slope, this tells us that there is a slightly positive correlation between 'winpercent' and 'sugarpercent'. Thus, people have a slight preference for candies containing relatively more sugar."
   ]
  },
  {
   "cell_type": "markdown",
   "id": "d79bb4cd",
   "metadata": {
    "papermill": {
     "duration": 0.007721,
     "end_time": "2022-12-27T06:48:51.383200",
     "exception": false,
     "start_time": "2022-12-27T06:48:51.375479",
     "status": "completed"
    },
    "tags": []
   },
   "source": [
    "## Step 5: Chocolate!\n",
    "\n",
    "In the code cell below, create a scatter plot to show the relationship between `'pricepercent'` (on the horizontal x-axis) and `'winpercent'` (on the vertical y-axis). Use the `'chocolate'` column to color-code the points.  _Don't add any regression lines just yet -- you'll do that in the next step!_"
   ]
  },
  {
   "cell_type": "code",
   "execution_count": 8,
   "id": "d9eeb447",
   "metadata": {
    "execution": {
     "iopub.execute_input": "2022-12-27T06:48:51.401204Z",
     "iopub.status.busy": "2022-12-27T06:48:51.400805Z",
     "iopub.status.idle": "2022-12-27T06:48:51.716066Z",
     "shell.execute_reply": "2022-12-27T06:48:51.715218Z"
    },
    "papermill": {
     "duration": 0.326799,
     "end_time": "2022-12-27T06:48:51.718204",
     "exception": false,
     "start_time": "2022-12-27T06:48:51.391405",
     "status": "completed"
    },
    "tags": []
   },
   "outputs": [
    {
     "data": {
      "application/javascript": [
       "parent.postMessage({\"jupyterEvent\": \"custom.exercise_interaction\", \"data\": {\"outcomeType\": 1, \"valueTowardsCompletion\": 0.3333333333333333, \"interactionType\": 1, \"questionType\": 2, \"questionId\": \"5_ColorScatter\", \"learnToolsVersion\": \"0.3.4\", \"failureMessage\": \"\", \"exceptionClass\": \"\", \"trace\": \"\"}}, \"*\")"
      ],
      "text/plain": [
       "<IPython.core.display.Javascript object>"
      ]
     },
     "metadata": {},
     "output_type": "display_data"
    },
    {
     "data": {
      "text/markdown": [
       "<span style=\"color:#33cc33\">Correct</span>"
      ],
      "text/plain": [
       "Correct"
      ]
     },
     "metadata": {},
     "output_type": "display_data"
    },
    {
     "data": {
      "image/png": "[encoded data removed]",
      "text/plain": [
       "<Figure size 432x288 with 1 Axes>"
      ]
     },
     "metadata": {
      "needs_background": "light"
     },
     "output_type": "display_data"
    }
   ],
   "source": [
    "# Scatter plot showing the relationship between 'pricepercent', 'winpercent', and 'chocolate'\n",
    "sns.scatterplot(x='pricepercent', y='winpercent', data=candy_data, hue= 'chocolate')\n",
    "# Your code here\n",
    "\n",
    "# Check your answer\n",
    "step_5.check()"
   ]
  },
  {
   "cell_type": "markdown",
   "id": "4c41abe7",
   "metadata": {
    "papermill": {
     "duration": 0.00871,
     "end_time": "2022-12-27T06:48:51.735841",
     "exception": false,
     "start_time": "2022-12-27T06:48:51.727131",
     "status": "completed"
    },
    "tags": []
   },
   "source": [
    "Can you see any interesting patterns in the scatter plot?  We'll investigate this plot further  by adding regression lines in the next step!\n",
    "\n",
    "## Step 6: Investigate chocolate\n",
    "\n",
    "#### Part A\n",
    "\n",
    "Create the same scatter plot you created in **Step 5**, but now with two regression lines, corresponding to (1) chocolate candies and (2) candies without chocolate."
   ]
  },
  {
   "cell_type": "code",
   "execution_count": 9,
   "id": "7e929fbb",
   "metadata": {
    "execution": {
     "iopub.execute_input": "2022-12-27T06:48:51.756239Z",
     "iopub.status.busy": "2022-12-27T06:48:51.755081Z",
     "iopub.status.idle": "2022-12-27T06:48:52.419459Z",
     "shell.execute_reply": "2022-12-27T06:48:52.418298Z"
    },
    "papermill": {
     "duration": 0.677398,
     "end_time": "2022-12-27T06:48:52.422082",
     "exception": false,
     "start_time": "2022-12-27T06:48:51.744684",
     "status": "completed"
    },
    "tags": []
   },
   "outputs": [
    {
     "data": {
      "application/javascript": [
       "parent.postMessage({\"jupyterEvent\": \"custom.exercise_interaction\", \"data\": {\"outcomeType\": 1, \"valueTowardsCompletion\": 0.3333333333333333, \"interactionType\": 1, \"questionType\": 2, \"questionId\": \"6.1_PlotColorReg\", \"learnToolsVersion\": \"0.3.4\", \"failureMessage\": \"\", \"exceptionClass\": \"\", \"trace\": \"\"}}, \"*\")"
      ],
      "text/plain": [
       "<IPython.core.display.Javascript object>"
      ]
     },
     "metadata": {},
     "output_type": "display_data"
    },
    {
     "data": {
      "text/markdown": [
       "<span style=\"color:#33cc33\">Correct</span>"
      ],
      "text/plain": [
       "Correct"
      ]
     },
     "metadata": {},
     "output_type": "display_data"
    },
    {
     "data": {
      "image/png": "[encoded data removed]",
      "text/plain": [
       "<Figure size 416.375x360 with 1 Axes>"
      ]
     },
     "metadata": {
      "needs_background": "light"
     },
     "output_type": "display_data"
    }
   ],
   "source": [
    "# Color-coded scatter plot w/ regression lines\n",
    "sns.lmplot(x='pricepercent', y='winpercent', hue= 'chocolate', data=candy_data)\n",
    "# Your code here\n",
    "\n",
    "# Check your answer\n",
    "step_6.a.check()"
   ]
  },
  {
   "cell_type": "markdown",
   "id": "05392a43",
   "metadata": {
    "papermill": {
     "duration": 0.012451,
     "end_time": "2022-12-27T06:48:52.444265",
     "exception": false,
     "start_time": "2022-12-27T06:48:52.431814",
     "status": "completed"
    },
    "tags": []
   },
   "source": [
    "#### Part B\n",
    "\n",
    "Using the regression lines, what conclusions can you draw about the effects of chocolate and price on candy popularity?"
   ]
  },
  {
   "cell_type": "markdown",
   "id": "4d4dde8f",
   "metadata": {
    "papermill": {
     "duration": 0.011443,
     "end_time": "2022-12-27T06:48:52.466139",
     "exception": false,
     "start_time": "2022-12-27T06:48:52.454696",
     "status": "completed"
    },
    "tags": []
   },
   "source": [
    "We'll begin with the regression line for chocolate candies. Since this line has a slightly positive slope, we can say that more expensive chocolate candies tend to be more popular (than relatively cheaper chocolate candies). Likewise, since the regression line for candies without chocolate has a negative slope, we can say that if candies don't contain chocolate, they tend to be more popular when they are cheaper. One important note, however, is that the dataset is quite small -- so we shouldn't invest too much trust in these patterns! To inspire more confidence in the results, we should add more candies to the dataset."
   ]
  },
  {
   "cell_type": "markdown",
   "id": "35da9a8e",
   "metadata": {
    "papermill": {
     "duration": 0.013801,
     "end_time": "2022-12-27T06:48:52.494116",
     "exception": false,
     "start_time": "2022-12-27T06:48:52.480315",
     "status": "completed"
    },
    "tags": []
   },
   "source": [
    "## Step 7: Everybody loves chocolate.\n",
    "\n",
    "#### Part A\n",
    "\n",
    "Create a categorical scatter plot to highlight the relationship between `'chocolate'` and `'winpercent'`.  Put `'chocolate'` on the (horizontal) x-axis, and `'winpercent'` on the (vertical) y-axis."
   ]
  },
  {
   "cell_type": "code",
   "execution_count": 10,
   "id": "cc399796",
   "metadata": {
    "execution": {
     "iopub.execute_input": "2022-12-27T06:48:52.520464Z",
     "iopub.status.busy": "2022-12-27T06:48:52.519388Z",
     "iopub.status.idle": "2022-12-27T06:48:52.758728Z",
     "shell.execute_reply": "2022-12-27T06:48:52.757831Z"
    },
    "papermill": {
     "duration": 0.255655,
     "end_time": "2022-12-27T06:48:52.761157",
     "exception": false,
     "start_time": "2022-12-27T06:48:52.505502",
     "status": "completed"
    },
    "tags": []
   },
   "outputs": [
    {
     "data": {
      "application/javascript": [
       "parent.postMessage({\"jupyterEvent\": \"custom.exercise_interaction\", \"data\": {\"outcomeType\": 1, \"valueTowardsCompletion\": 0.3333333333333333, \"interactionType\": 1, \"questionType\": 2, \"questionId\": \"7.1_PlotSwarm\", \"learnToolsVersion\": \"0.3.4\", \"failureMessage\": \"\", \"exceptionClass\": \"\", \"trace\": \"\"}}, \"*\")"
      ],
      "text/plain": [
       "<IPython.core.display.Javascript object>"
      ]
     },
     "metadata": {},
     "output_type": "display_data"
    },
    {
     "data": {
      "text/markdown": [
       "<span style=\"color:#33cc33\">Correct</span>"
      ],
      "text/plain": [
       "Correct"
      ]
     },
     "metadata": {},
     "output_type": "display_data"
    },
    {
     "data": {
      "image/png": "[encoded data removed]",
      "text/plain": [
       "<Figure size 432x288 with 1 Axes>"
      ]
     },
     "metadata": {
      "needs_background": "light"
     },
     "output_type": "display_data"
    }
   ],
   "source": [
    "# Scatter plot showing the relationship between 'chocolate' and 'winpercent'\n",
    "sns.swarmplot(x='chocolate', y='winpercent', data=candy_data)\n",
    "# Your code here\n",
    "\n",
    "# Check your answer\n",
    "step_7.a.check()"
   ]
  },
  {
   "cell_type": "markdown",
   "id": "dbe9fd12",
   "metadata": {
    "papermill": {
     "duration": 0.010617,
     "end_time": "2022-12-27T06:48:52.783477",
     "exception": false,
     "start_time": "2022-12-27T06:48:52.772860",
     "status": "completed"
    },
    "tags": []
   },
   "source": [
    "#### Part B\n",
    "\n",
    "You decide to dedicate a section of your report to the fact that chocolate candies tend to be more popular than candies without chocolate.  Which plot is more appropriate to tell this story: the plot from **Step 6**, or the plot from **Step 7**?"
   ]
  },
  {
   "cell_type": "markdown",
   "id": "563ca1ae",
   "metadata": {
    "papermill": {
     "duration": 0.011392,
     "end_time": "2022-12-27T06:48:52.806322",
     "exception": false,
     "start_time": "2022-12-27T06:48:52.794930",
     "status": "completed"
    },
    "tags": []
   },
   "source": [
    "In this case, the categorical scatter plot from Step 7 is the more appropriate plot. While both plots tell the desired story, the plot from Step 6 conveys far more information that could distract from the main point."
   ]
  },
  {
   "cell_type": "markdown",
   "id": "05b853ce",
   "metadata": {
    "papermill": {
     "duration": 0.010805,
     "end_time": "2022-12-27T06:48:52.827827",
     "exception": false,
     "start_time": "2022-12-27T06:48:52.817022",
     "status": "completed"
    },
    "tags": []
   },
   "source": [
    "## Keep going\n",
    "\n",
    "Explore **[histograms and density plots](https://www.kaggle.com/alexisbcook/distributions)**."
   ]
  },
  {
   "cell_type": "markdown",
   "id": "7cc631ec",
   "metadata": {
    "papermill": {
     "duration": 0.011583,
     "end_time": "2022-12-27T06:48:52.851269",
     "exception": false,
     "start_time": "2022-12-27T06:48:52.839686",
     "status": "completed"
    },
    "tags": []
   },
   "source": [
    "---\n",
    "\n",
    "\n",
    "\n",
    "\n",
    "*Have questions or comments? Visit the [course discussion forum](https://www.kaggle.com/learn/data-visualization/discussion) to chat with other learners.*"
   ]
  }
 ],
 "metadata": {
  "kernelspec": {
   "display_name": "Python 3",
   "language": "python",
   "name": "python3"
  },
  "language_info": {
   "codemirror_mode": {
    "name": "ipython",
    "version": 3
   },
   "file_extension": ".py",
   "mimetype": "text/x-python",
   "name": "python",
   "nbconvert_exporter": "python",
   "pygments_lexer": "ipython3",
   "version": "3.7.12"
  },
  "papermill": {
   "default_parameters": {},
   "duration": 13.123673,
   "end_time": "2022-12-27T06:48:53.685983",
   "environment_variables": {},
   "exception": null,
   "input_path": "__notebook__.ipynb",
   "output_path": "__notebook__.ipynb",
   "parameters": {},
   "start_time": "2022-12-27T06:48:40.562310",
   "version": "2.3.4"
  }
 },
 "nbformat": 4,
 "nbformat_minor": 5
}
